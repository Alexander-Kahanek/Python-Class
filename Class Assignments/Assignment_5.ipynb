{
  "nbformat": 4,
  "nbformat_minor": 0,
  "metadata": {
    "colab": {
      "name": "Untitled5.ipynb",
      "provenance": [],
      "authorship_tag": "ABX9TyM7fo5jSq4vuomR+dWbA2XX",
      "include_colab_link": true
    },
    "kernelspec": {
      "name": "python3",
      "display_name": "Python 3"
    }
  },
  "cells": [
    {
      "cell_type": "markdown",
      "metadata": {
        "id": "view-in-github",
        "colab_type": "text"
      },
      "source": [
        "<a href=\"https://colab.research.google.com/github/Alexander-Kahanek/Python-Class/blob/master/Assignment_5.ipynb\" target=\"_parent\"><img src=\"https://colab.research.google.com/assets/colab-badge.svg\" alt=\"Open In Colab\"/></a>"
      ]
    },
    {
      "cell_type": "markdown",
      "metadata": {
        "id": "N6OwIy5_lWBt",
        "colab_type": "text"
      },
      "source": [
        "Use tuple to create a student data structure which could store every student’s student id, student name,and their courses they selected. There should be at least two courses.\n",
        "\n",
        "Write a function which could return the courses by the specific student’sn ame"
      ]
    },
    {
      "cell_type": "code",
      "metadata": {
        "id": "vU9xrqNSlMAi",
        "colab_type": "code",
        "colab": {
          "base_uri": "https://localhost:8080/",
          "height": 34
        },
        "outputId": "8087b599-422b-4c52-e812-eadd84ceda8f"
      },
      "source": [
        "x= ((2017,\"John\",(\"Math\",\"Intro to Python\")),(8940,\"Sally\",(\"Math\",\"Physics\",\"Biology\")))\n",
        "\n",
        "def function(x, name):\n",
        "    for i in range(len(x)):\n",
        "        if name == x[i][1]:\n",
        "            #print(i)\n",
        "            return x[i][2]\n",
        "    return \"Error with name\"\n",
        "\n",
        "\n",
        "print(function(x,\"Sally\"))\n"
      ],
      "execution_count": 1,
      "outputs": [
        {
          "output_type": "stream",
          "text": [
            "('Math', 'Physics', 'Biology')\n"
          ],
          "name": "stdout"
        }
      ]
    },
    {
      "cell_type": "markdown",
      "metadata": {
        "id": "jg0W_25_mHok",
        "colab_type": "text"
      },
      "source": [
        "1: write a function which could create a matrix which has n rows and m columns.\n",
        "\n",
        "2: fill the matrix with any data you want \n",
        "\n",
        "3: write another function which could return the index of any specific data\n",
        "\n",
        "4: if the specific data is not in the matrix, it return -1, or return the row and column where the data is in."
      ]
    },
    {
      "cell_type": "code",
      "metadata": {
        "id": "qUyXSWUGmxQ_",
        "colab_type": "code",
        "colab": {
          "base_uri": "https://localhost:8080/",
          "height": 51
        },
        "outputId": "1b31291f-e3d2-4bb5-c259-04f837f3b067"
      },
      "source": [
        "def create(n,m):\n",
        "    array=[]\n",
        "    main_array=[]\n",
        "    for j in range(n):\n",
        "        for k in range(m):\n",
        "            array.append(k)\n",
        "        main_array.append(array)\n",
        "        array = []\n",
        "    return main_array\n",
        "\n",
        "def find(matrix,value):\n",
        "    for n in range(len(matrix)):\n",
        "        for m in range(len(matrix[n])):\n",
        "            if value == matrix[n][m]:\n",
        "                return (n,m)\n",
        "    return -1\n",
        "\n",
        "x= create(5,2)\n",
        "print(x)\n",
        "print(\"(row,col)=\",find(x,1))"
      ],
      "execution_count": 2,
      "outputs": [
        {
          "output_type": "stream",
          "text": [
            "[[0, 1], [0, 1], [0, 1], [0, 1], [0, 1]]\n",
            "(row,col)= (0, 1)\n"
          ],
          "name": "stdout"
        }
      ]
    }
  ]
}
