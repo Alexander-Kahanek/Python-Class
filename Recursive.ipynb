{
  "nbformat": 4,
  "nbformat_minor": 0,
  "metadata": {
    "colab": {
      "name": "Untitled7.ipynb",
      "provenance": [],
      "authorship_tag": "ABX9TyNmXg3Li0S0P3MStOdHWjsX",
      "include_colab_link": true
    },
    "kernelspec": {
      "name": "python3",
      "display_name": "Python 3"
    }
  },
  "cells": [
    {
      "cell_type": "markdown",
      "metadata": {
        "id": "view-in-github",
        "colab_type": "text"
      },
      "source": [
        "<a href=\"https://colab.research.google.com/github/Alexander-Kahanek/Python-Class/blob/master/Recursive.ipynb\" target=\"_parent\"><img src=\"https://colab.research.google.com/assets/colab-badge.svg\" alt=\"Open In Colab\"/></a>"
      ]
    },
    {
      "cell_type": "code",
      "metadata": {
        "id": "-M4iw_n4x2lL",
        "colab_type": "code",
        "colab": {
          "base_uri": "https://localhost:8080/",
          "height": 34
        },
        "outputId": "3022ff13-af8b-4b9f-8879-873c79a8b12d"
      },
      "source": [
        "my_list = [3,2,1,[5,6,7],8,9,1,5,[6,7,8,[1,2,3,[5,6,7,8,[3,5,6,7,9,[1,2,4,5,8]]]],9,3],5,3,2,1,[4,5,[5,6,7],[6,7,3]]]\n",
        "\n",
        "def my_count(the_list, num):\n",
        "    total =0\n",
        "    for i in the_list:\n",
        "        if type(i) is list:\n",
        "            total += my_count(i,num)\n",
        "        else:\n",
        "            if i == num:\n",
        "                total +=1\n",
        "    return total\n",
        "\n",
        "total = my_count(my_list,1)\n",
        "print(\"Total count is:\",total)"
      ],
      "execution_count": 6,
      "outputs": [
        {
          "output_type": "stream",
          "text": [
            "Total count is: 5\n"
          ],
          "name": "stdout"
        }
      ]
    }
  ]
}